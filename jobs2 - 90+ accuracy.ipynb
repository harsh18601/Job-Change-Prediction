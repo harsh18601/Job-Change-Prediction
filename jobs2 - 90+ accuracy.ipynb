{
 "cells": [
  {
   "cell_type": "markdown",
   "id": "1969c77b",
   "metadata": {},
   "source": [
    "## Import the modules"
   ]
  },
  {
   "cell_type": "code",
   "execution_count": 1,
   "id": "524faec2",
   "metadata": {},
   "outputs": [],
   "source": [
    "import numpy as np\n",
    "import pandas as pd\n",
    "import seaborn as sns\n",
    "import matplotlib.pyplot as plt\n",
    "import warnings\n",
    "warnings.filterwarnings(\"ignore\")\n",
    "\n",
    "from sklearn.model_selection import train_test_split\n",
    "from sklearn.preprocessing import StandardScaler\n",
    "from sklearn.metrics import accuracy_score\n",
    "\n",
    "from sklearn.svm import SVC\n",
    "from sklearn.neighbors import KNeighborsClassifier\n",
    "from sklearn.linear_model import LogisticRegression\n",
    "from xgboost import XGBClassifier\n",
    "from sklearn.ensemble import RandomForestClassifier\n",
    "from sklearn.naive_bayes import GaussianNB\n",
    "from sklearn.naive_bayes import BernoulliNB\n",
    "from sklearn.model_selection import GridSearchCV, RepeatedKFold, RandomizedSearchCV\n",
    "from sklearn.model_selection import StratifiedKFold\n",
    "from sklearn.metrics import auc, accuracy_score, confusion_matrix, f1_score, classification_report"
   ]
  },
  {
   "cell_type": "code",
   "execution_count": 2,
   "id": "f7f6aa77",
   "metadata": {},
   "outputs": [],
   "source": [
    "df = pd.read_csv(\"aug_train.csv\")\n",
    "df2 = pd.read_csv(\"aug_test.csv\")"
   ]
  },
  {
   "cell_type": "code",
   "execution_count": 3,
   "id": "cb4773a8",
   "metadata": {},
   "outputs": [],
   "source": [
    "df[\"city\"] = df['city'].replace('city_','',regex=True).astype('int')\n",
    "df2[\"city\"] = df2['city'].replace('city_','',regex=True).astype('int')"
   ]
  },
  {
   "cell_type": "markdown",
   "id": "92b93051",
   "metadata": {},
   "source": [
    "df = df.drop(columns=[\"city\"])\n",
    "df2 = df2.drop(columns=[\"city\"])"
   ]
  },
  {
   "cell_type": "markdown",
   "id": "bb0c72b6",
   "metadata": {},
   "source": [
    "## Looking at missing data"
   ]
  },
  {
   "cell_type": "code",
   "execution_count": 4,
   "id": "9e74dd25",
   "metadata": {},
   "outputs": [
    {
     "name": "stdout",
     "output_type": "stream",
     "text": [
      "                     Count Missing  Percent Missing\n",
      "gender                        4508        23.530640\n",
      "enrolled_university            386         2.014824\n",
      "education_level                460         2.401086\n",
      "major_discipline              2813        14.683161\n",
      "experience                      65         0.339284\n",
      "company_size                  5938        30.994885\n",
      "company_type                  6140        32.049274\n",
      "last_new_job                   423         2.207955 \n",
      "\n"
     ]
    }
   ],
   "source": [
    "def count_percent(data):\n",
    "    df_cols = pd.DataFrame({'Count Missing': data.isnull().sum(),\n",
    "                        'Percent Missing': data.isnull().sum()*100/data.shape[0]})\n",
    "    return df_cols\n",
    "\n",
    "df_cols = count_percent(df)\n",
    "print(df_cols[df_cols['Count Missing']>0],'\\n')"
   ]
  },
  {
   "cell_type": "code",
   "execution_count": 5,
   "id": "b4c86336",
   "metadata": {},
   "outputs": [
    {
     "data": {
      "text/plain": [
       "<AxesSubplot:>"
      ]
     },
     "execution_count": 5,
     "metadata": {},
     "output_type": "execute_result"
    },
    {
     "data": {
      "image/png": "[encoded data removed]",
      "text/plain": [
       "<Figure size 432x288 with 1 Axes>"
      ]
     },
     "metadata": {
      "needs_background": "light"
     },
     "output_type": "display_data"
    }
   ],
   "source": [
    "sns.heatmap(df.isnull(),yticklabels=False,cbar=False,cmap='viridis')"
   ]
  },
  {
   "cell_type": "code",
   "execution_count": 6,
   "id": "09611861",
   "metadata": {},
   "outputs": [
    {
     "data": {
      "text/plain": [
       "<AxesSubplot:>"
      ]
     },
     "execution_count": 6,
     "metadata": {},
     "output_type": "execute_result"
    },
    {
     "data": {
      "image/png": "[encoded data removed]",
      "text/plain": [
       "<Figure size 432x288 with 1 Axes>"
      ]
     },
     "metadata": {
      "needs_background": "light"
     },
     "output_type": "display_data"
    }
   ],
   "source": [
    "sns.heatmap(df2.isnull(),yticklabels=False,cbar=False,cmap='viridis')"
   ]
  },
  {
   "cell_type": "code",
   "execution_count": 7,
   "id": "67c690f2",
   "metadata": {},
   "outputs": [],
   "source": [
    "df = df.dropna()\n",
    "df2 = df2.dropna()"
   ]
  },
  {
   "cell_type": "markdown",
   "id": "8305515c",
   "metadata": {},
   "source": [
    "```python\n",
    "# we can't do this\n",
    "df[\"gender\"] = df[\"gender\"].fillna(\"Unknown\")\n",
    "df2[\"gender\"] = df2[\"gender\"].fillna(\"Unknown\")\n",
    "\n",
    "df[\"enrolled_university\"] = df[\"enrolled_university\"].fillna(\"Unknown\")\n",
    "df2[\"enrolled_university\"] = df2[\"enrolled_university\"].fillna(\"Unknown\")\n",
    "\n",
    "df[\"education_level\"] = df[\"education_level\"].fillna(\"Unknown\")\n",
    "df2[\"education_level\"] = df2[\"education_level\"].fillna(\"Unknown\")\n",
    "\n",
    "df[\"major_discipline\"] = df[\"major_discipline\"].fillna(\"Unknown\")\n",
    "df2[\"major_discipline\"] = df2[\"major_discipline\"].fillna(\"Unknown\")\n",
    "\n",
    "df[\"experience\"] = df[\"experience\"].fillna(\"Unknown\")\n",
    "df2[\"experience\"] = df2[\"experience\"].fillna(\"Unknown\")\n",
    "\n",
    "df[\"company_size\"] = df[\"company_size\"].fillna(\"Unknown\")\n",
    "df2[\"company_size\"] = df2[\"company_size\"].fillna(\"Unknown\")\n",
    "\n",
    "df[\"company_type\"] = df[\"company_type\"].fillna(\"Unknown\")\n",
    "df2[\"company_type\"] = df2[\"company_type\"].fillna(\"Unknown\")\n",
    "\n",
    "df[\"last_new_job\"] = df[\"last_new_job\"].fillna(\"Unknown\")\n",
    "df2[\"last_new_job\"] = df2[\"last_new_job\"].fillna(\"Unknown\")\n",
    "```"
   ]
  },
  {
   "cell_type": "code",
   "execution_count": 8,
   "id": "63f76270",
   "metadata": {},
   "outputs": [
    {
     "name": "stdout",
     "output_type": "stream",
     "text": [
      "(8955, 14)\n"
     ]
    },
    {
     "data": {
      "text/plain": [
       "<AxesSubplot:>"
      ]
     },
     "execution_count": 8,
     "metadata": {},
     "output_type": "execute_result"
    },
    {
     "data": {
      "image/png": "[encoded data removed]",
      "text/plain": [
       "<Figure size 432x288 with 1 Axes>"
      ]
     },
     "metadata": {
      "needs_background": "light"
     },
     "output_type": "display_data"
    }
   ],
   "source": [
    "print(df.shape)\n",
    "sns.heatmap(df.isnull(),yticklabels=False,cbar=False,cmap='viridis')"
   ]
  },
  {
   "cell_type": "code",
   "execution_count": 9,
   "id": "9ac1c857",
   "metadata": {},
   "outputs": [],
   "source": [
    "df = df.drop(columns=[\"enrollee_id\"])\n",
    "df2 = df2.drop(columns=[\"enrollee_id\"])"
   ]
  },
  {
   "cell_type": "code",
   "execution_count": 10,
   "id": "8da681b9",
   "metadata": {},
   "outputs": [
    {
     "data": {
      "text/html": [
       "<div>\n",
       "<style scoped>\n",
       "    .dataframe tbody tr th:only-of-type {\n",
       "        vertical-align: middle;\n",
       "    }\n",
       "\n",
       "    .dataframe tbody tr th {\n",
       "        vertical-align: top;\n",
       "    }\n",
       "\n",
       "    .dataframe thead th {\n",
       "        text-align: right;\n",
       "    }\n",
       "</style>\n",
       "<table border=\"1\" class=\"dataframe\">\n",
       "  <thead>\n",
       "    <tr style=\"text-align: right;\">\n",
       "      <th></th>\n",
       "      <th>city</th>\n",
       "      <th>city_development_index</th>\n",
       "      <th>gender</th>\n",
       "      <th>relevent_experience</th>\n",
       "      <th>enrolled_university</th>\n",
       "      <th>education_level</th>\n",
       "      <th>major_discipline</th>\n",
       "      <th>experience</th>\n",
       "      <th>company_size</th>\n",
       "      <th>company_type</th>\n",
       "      <th>last_new_job</th>\n",
       "      <th>training_hours</th>\n",
       "      <th>target</th>\n",
       "    </tr>\n",
       "  </thead>\n",
       "  <tbody>\n",
       "    <tr>\n",
       "      <th>1</th>\n",
       "      <td>40</td>\n",
       "      <td>0.776</td>\n",
       "      <td>Male</td>\n",
       "      <td>No relevent experience</td>\n",
       "      <td>no_enrollment</td>\n",
       "      <td>Graduate</td>\n",
       "      <td>STEM</td>\n",
       "      <td>15</td>\n",
       "      <td>50-99</td>\n",
       "      <td>Pvt Ltd</td>\n",
       "      <td>&gt;4</td>\n",
       "      <td>47</td>\n",
       "      <td>0.0</td>\n",
       "    </tr>\n",
       "    <tr>\n",
       "      <th>4</th>\n",
       "      <td>162</td>\n",
       "      <td>0.767</td>\n",
       "      <td>Male</td>\n",
       "      <td>Has relevent experience</td>\n",
       "      <td>no_enrollment</td>\n",
       "      <td>Masters</td>\n",
       "      <td>STEM</td>\n",
       "      <td>&gt;20</td>\n",
       "      <td>50-99</td>\n",
       "      <td>Funded Startup</td>\n",
       "      <td>4</td>\n",
       "      <td>8</td>\n",
       "      <td>0.0</td>\n",
       "    </tr>\n",
       "    <tr>\n",
       "      <th>7</th>\n",
       "      <td>46</td>\n",
       "      <td>0.762</td>\n",
       "      <td>Male</td>\n",
       "      <td>Has relevent experience</td>\n",
       "      <td>no_enrollment</td>\n",
       "      <td>Graduate</td>\n",
       "      <td>STEM</td>\n",
       "      <td>13</td>\n",
       "      <td>&lt;10</td>\n",
       "      <td>Pvt Ltd</td>\n",
       "      <td>&gt;4</td>\n",
       "      <td>18</td>\n",
       "      <td>1.0</td>\n",
       "    </tr>\n",
       "    <tr>\n",
       "      <th>8</th>\n",
       "      <td>103</td>\n",
       "      <td>0.920</td>\n",
       "      <td>Male</td>\n",
       "      <td>Has relevent experience</td>\n",
       "      <td>no_enrollment</td>\n",
       "      <td>Graduate</td>\n",
       "      <td>STEM</td>\n",
       "      <td>7</td>\n",
       "      <td>50-99</td>\n",
       "      <td>Pvt Ltd</td>\n",
       "      <td>1</td>\n",
       "      <td>46</td>\n",
       "      <td>1.0</td>\n",
       "    </tr>\n",
       "    <tr>\n",
       "      <th>11</th>\n",
       "      <td>103</td>\n",
       "      <td>0.920</td>\n",
       "      <td>Male</td>\n",
       "      <td>Has relevent experience</td>\n",
       "      <td>no_enrollment</td>\n",
       "      <td>Graduate</td>\n",
       "      <td>STEM</td>\n",
       "      <td>5</td>\n",
       "      <td>5000-9999</td>\n",
       "      <td>Pvt Ltd</td>\n",
       "      <td>1</td>\n",
       "      <td>108</td>\n",
       "      <td>0.0</td>\n",
       "    </tr>\n",
       "  </tbody>\n",
       "</table>\n",
       "</div>"
      ],
      "text/plain": [
       "    city  city_development_index gender      relevent_experience  \\\n",
       "1     40                   0.776   Male   No relevent experience   \n",
       "4    162                   0.767   Male  Has relevent experience   \n",
       "7     46                   0.762   Male  Has relevent experience   \n",
       "8    103                   0.920   Male  Has relevent experience   \n",
       "11   103                   0.920   Male  Has relevent experience   \n",
       "\n",
       "   enrolled_university education_level major_discipline experience  \\\n",
       "1        no_enrollment        Graduate             STEM         15   \n",
       "4        no_enrollment         Masters             STEM        >20   \n",
       "7        no_enrollment        Graduate             STEM         13   \n",
       "8        no_enrollment        Graduate             STEM          7   \n",
       "11       no_enrollment        Graduate             STEM          5   \n",
       "\n",
       "   company_size    company_type last_new_job  training_hours  target  \n",
       "1         50-99         Pvt Ltd           >4              47     0.0  \n",
       "4         50-99  Funded Startup            4               8     0.0  \n",
       "7           <10         Pvt Ltd           >4              18     1.0  \n",
       "8         50-99         Pvt Ltd            1              46     1.0  \n",
       "11    5000-9999         Pvt Ltd            1             108     0.0  "
      ]
     },
     "execution_count": 10,
     "metadata": {},
     "output_type": "execute_result"
    }
   ],
   "source": [
    "df.head()"
   ]
  },
  {
   "cell_type": "code",
   "execution_count": 11,
   "id": "674bae72",
   "metadata": {},
   "outputs": [
    {
     "name": "stdout",
     "output_type": "stream",
     "text": [
      "Empty DataFrame\n",
      "Columns: [Count Missing, Percent Missing]\n",
      "Index: [] \n",
      "\n",
      "Empty DataFrame\n",
      "Columns: [Count Missing, Percent Missing]\n",
      "Index: [] \n",
      "\n"
     ]
    }
   ],
   "source": [
    "# perfect nothing is missing now\n",
    "df_cols = count_percent(df)\n",
    "print(df_cols[df_cols['Count Missing']>0],'\\n')\n",
    "\n",
    "df_cols = count_percent(df2)\n",
    "print(df_cols[df_cols['Count Missing']>0],'\\n')"
   ]
  },
  {
   "cell_type": "code",
   "execution_count": 12,
   "id": "f47f79c9",
   "metadata": {},
   "outputs": [],
   "source": [
    "# print(df.isnull().sum(),df2.isnull().sum())"
   ]
  },
  {
   "cell_type": "code",
   "execution_count": 13,
   "id": "d6aad830",
   "metadata": {},
   "outputs": [
    {
     "data": {
      "text/plain": [
       "city                        int64\n",
       "city_development_index    float64\n",
       "gender                     object\n",
       "relevent_experience        object\n",
       "enrolled_university        object\n",
       "education_level            object\n",
       "major_discipline           object\n",
       "experience                 object\n",
       "company_size               object\n",
       "company_type               object\n",
       "last_new_job               object\n",
       "training_hours              int64\n",
       "target                    float64\n",
       "dtype: object"
      ]
     },
     "execution_count": 13,
     "metadata": {},
     "output_type": "execute_result"
    }
   ],
   "source": [
    "df.dtypes"
   ]
  },
  {
   "cell_type": "code",
   "execution_count": 14,
   "id": "3945495c",
   "metadata": {},
   "outputs": [
    {
     "data": {
      "text/plain": [
       "city                        int64\n",
       "city_development_index    float64\n",
       "gender                     object\n",
       "relevent_experience        object\n",
       "enrolled_university        object\n",
       "education_level            object\n",
       "major_discipline           object\n",
       "experience                 object\n",
       "company_size               object\n",
       "company_type               object\n",
       "last_new_job               object\n",
       "training_hours              int64\n",
       "dtype: object"
      ]
     },
     "execution_count": 14,
     "metadata": {},
     "output_type": "execute_result"
    }
   ],
   "source": [
    "df2.dtypes"
   ]
  },
  {
   "cell_type": "code",
   "execution_count": 15,
   "id": "2edd48e5",
   "metadata": {},
   "outputs": [],
   "source": [
    "train = df\n",
    "test = df2"
   ]
  },
  {
   "cell_type": "code",
   "execution_count": 16,
   "id": "4a876ebe",
   "metadata": {},
   "outputs": [],
   "source": [
    "from sklearn.preprocessing import LabelEncoder\n",
    "\n",
    "# I do this manually to explicitly tell the model that a better education & experience serves well as a trustworthy input.\n",
    "\n",
    "# However, later we wil see the feature importanes report in SHAP and notice interesting results.\n",
    "experience_dict = {'Has relevent experience' : 1,\n",
    "             'No relevent experience': 0}\n",
    "\n",
    "education_dict = {'Graduate' : 2,\n",
    "             'Masters' : 1,\n",
    "             'Phd' : 0}\n",
    "\n",
    "enrollment_dict = {'no_enrollment' : 2,\n",
    "             'Full time course' : 1,\n",
    "             'Part time course' : 0}\n",
    "\n",
    "gender_dict = {'Male' : 2,\n",
    "             'Female' : 1,\n",
    "             'Other' : 0}\n",
    "\n",
    "discipline_dict = {'STEM' : 5,\n",
    "             'Humanities' : 4,\n",
    "             'Business Degree' : 3,\n",
    "             'Other' : 2,\n",
    "             'No Major' : 1,\n",
    "             'Arts' : 0 }\n",
    "\n",
    "company_dict = {'Pvt Ltd' : 5,\n",
    "             'Funded Startup' : 4,\n",
    "             'Public Sector' : 3,\n",
    "             'Early Stage Startup' : 2,\n",
    "             'NGO' : 1,\n",
    "             'Other' : 0 }\n",
    "\n",
    "\n",
    "# Train encoding\n",
    "le = LabelEncoder()\n",
    "train['gender'] = train['gender'].map(gender_dict)\n",
    "train['relevent_experience'] = train['relevent_experience'].map(experience_dict)\n",
    "train['education_level'] = train['education_level'].map(education_dict)\n",
    "train['enrolled_university'] = train['enrolled_university'].map(enrollment_dict)\n",
    "train['major_discipline'] = train['major_discipline'].map(discipline_dict)\n",
    "train['experience'] = le.fit_transform(train['experience'].astype(str))\n",
    "train['company_size'] = le.fit_transform(train['company_size'].astype(str))\n",
    "train['company_type'] = train['company_type'].map(company_dict)\n",
    "train['last_new_job'] = le.fit_transform(train['last_new_job'].astype(str))\n",
    "\n",
    "# Test encoding\n",
    "test['gender'] = le.fit_transform(test['gender'].astype(str))\n",
    "test['relevent_experience'] = test['relevent_experience'].map(experience_dict)\n",
    "test['education_level'] = test['education_level'].map(education_dict)\n",
    "test['enrolled_university'] = test['enrolled_university'].map(enrollment_dict)\n",
    "test['major_discipline'] = test['major_discipline'].map(discipline_dict)\n",
    "test['experience'] = le.fit_transform(test['experience'].astype(str))\n",
    "test['company_size'] = le.fit_transform(test['company_size'].astype(str))\n",
    "test['company_type'] = test['company_type'].map(company_dict)\n",
    "test['last_new_job'] = le.fit_transform(test['last_new_job'].astype(str))"
   ]
  },
  {
   "cell_type": "code",
   "execution_count": 17,
   "id": "fbe0e5d9",
   "metadata": {},
   "outputs": [
    {
     "data": {
      "text/plain": [
       "pandas.core.frame.DataFrame"
      ]
     },
     "execution_count": 17,
     "metadata": {},
     "output_type": "execute_result"
    }
   ],
   "source": [
    "type(train)"
   ]
  },
  {
   "cell_type": "markdown",
   "id": "5acb8f1e",
   "metadata": {},
   "source": [
    "## Missing Values Imputation\n",
    "\n",
    "A more sophisticated approach is to use the IterativeImputer class, which models each feature with missing values as a function of other features, and uses that estimate for imputation. It does so in an iterated round-robin fashion: at each step, a feature column is designated as output y and the other feature columns are treated as inputs X. A regressor is fit on (X, y) for known y. Then, the regressor is used to predict the missing values of y. This is done for each feature in an iterative fashion, and then is repeated for max_iter imputation rounds. The results of the final imputation round are returned."
   ]
  },
  {
   "cell_type": "code",
   "execution_count": 18,
   "id": "f59c376b",
   "metadata": {},
   "outputs": [],
   "source": [
    "from sklearn.experimental import enable_iterative_imputer\n",
    "from sklearn.impute import IterativeImputer\n",
    "\n",
    "from sklearn.linear_model import LinearRegression\n",
    "\n",
    "lr = LinearRegression()\n",
    "\n",
    "train_col_names = list(train.columns.values.tolist())\n",
    "test_col_names = list(test.columns.values.tolist())\n",
    "\n",
    "mice_imputer = IterativeImputer(random_state=42, estimator=lr, \n",
    "                                max_iter=10, n_nearest_features=2, imputation_order = 'roman')\n",
    "train = mice_imputer.fit_transform(train)\n",
    "test = mice_imputer.fit_transform(test)\n",
    "\n",
    "train = pd.DataFrame(train)\n",
    "test = pd.DataFrame(test)\n",
    "\n",
    "train.columns = train_col_names\n",
    "test.columns = test_col_names"
   ]
  },
  {
   "cell_type": "code",
   "execution_count": 19,
   "id": "0762e83a",
   "metadata": {},
   "outputs": [
    {
     "data": {
      "text/html": [
       "<div>\n",
       "<style scoped>\n",
       "    .dataframe tbody tr th:only-of-type {\n",
       "        vertical-align: middle;\n",
       "    }\n",
       "\n",
       "    .dataframe tbody tr th {\n",
       "        vertical-align: top;\n",
       "    }\n",
       "\n",
       "    .dataframe thead th {\n",
       "        text-align: right;\n",
       "    }\n",
       "</style>\n",
       "<table border=\"1\" class=\"dataframe\">\n",
       "  <thead>\n",
       "    <tr style=\"text-align: right;\">\n",
       "      <th></th>\n",
       "      <th>city</th>\n",
       "      <th>city_development_index</th>\n",
       "      <th>gender</th>\n",
       "      <th>relevent_experience</th>\n",
       "      <th>enrolled_university</th>\n",
       "      <th>education_level</th>\n",
       "      <th>major_discipline</th>\n",
       "      <th>experience</th>\n",
       "      <th>company_size</th>\n",
       "      <th>company_type</th>\n",
       "      <th>last_new_job</th>\n",
       "      <th>training_hours</th>\n",
       "      <th>target</th>\n",
       "    </tr>\n",
       "  </thead>\n",
       "  <tbody>\n",
       "    <tr>\n",
       "      <th>0</th>\n",
       "      <td>40.0</td>\n",
       "      <td>0.776</td>\n",
       "      <td>2.0</td>\n",
       "      <td>0.0</td>\n",
       "      <td>2.0</td>\n",
       "      <td>2.0</td>\n",
       "      <td>5.0</td>\n",
       "      <td>6.0</td>\n",
       "      <td>4.0</td>\n",
       "      <td>5.0</td>\n",
       "      <td>4.0</td>\n",
       "      <td>47.0</td>\n",
       "      <td>0.0</td>\n",
       "    </tr>\n",
       "    <tr>\n",
       "      <th>1</th>\n",
       "      <td>162.0</td>\n",
       "      <td>0.767</td>\n",
       "      <td>2.0</td>\n",
       "      <td>1.0</td>\n",
       "      <td>2.0</td>\n",
       "      <td>1.0</td>\n",
       "      <td>5.0</td>\n",
       "      <td>21.0</td>\n",
       "      <td>4.0</td>\n",
       "      <td>4.0</td>\n",
       "      <td>3.0</td>\n",
       "      <td>8.0</td>\n",
       "      <td>0.0</td>\n",
       "    </tr>\n",
       "    <tr>\n",
       "      <th>2</th>\n",
       "      <td>46.0</td>\n",
       "      <td>0.762</td>\n",
       "      <td>2.0</td>\n",
       "      <td>1.0</td>\n",
       "      <td>2.0</td>\n",
       "      <td>2.0</td>\n",
       "      <td>5.0</td>\n",
       "      <td>4.0</td>\n",
       "      <td>7.0</td>\n",
       "      <td>5.0</td>\n",
       "      <td>4.0</td>\n",
       "      <td>18.0</td>\n",
       "      <td>1.0</td>\n",
       "    </tr>\n",
       "    <tr>\n",
       "      <th>3</th>\n",
       "      <td>103.0</td>\n",
       "      <td>0.920</td>\n",
       "      <td>2.0</td>\n",
       "      <td>1.0</td>\n",
       "      <td>2.0</td>\n",
       "      <td>2.0</td>\n",
       "      <td>5.0</td>\n",
       "      <td>17.0</td>\n",
       "      <td>4.0</td>\n",
       "      <td>5.0</td>\n",
       "      <td>0.0</td>\n",
       "      <td>46.0</td>\n",
       "      <td>1.0</td>\n",
       "    </tr>\n",
       "    <tr>\n",
       "      <th>4</th>\n",
       "      <td>103.0</td>\n",
       "      <td>0.920</td>\n",
       "      <td>2.0</td>\n",
       "      <td>1.0</td>\n",
       "      <td>2.0</td>\n",
       "      <td>2.0</td>\n",
       "      <td>5.0</td>\n",
       "      <td>15.0</td>\n",
       "      <td>6.0</td>\n",
       "      <td>5.0</td>\n",
       "      <td>0.0</td>\n",
       "      <td>108.0</td>\n",
       "      <td>0.0</td>\n",
       "    </tr>\n",
       "  </tbody>\n",
       "</table>\n",
       "</div>"
      ],
      "text/plain": [
       "    city  city_development_index  gender  relevent_experience  \\\n",
       "0   40.0                   0.776     2.0                  0.0   \n",
       "1  162.0                   0.767     2.0                  1.0   \n",
       "2   46.0                   0.762     2.0                  1.0   \n",
       "3  103.0                   0.920     2.0                  1.0   \n",
       "4  103.0                   0.920     2.0                  1.0   \n",
       "\n",
       "   enrolled_university  education_level  major_discipline  experience  \\\n",
       "0                  2.0              2.0               5.0         6.0   \n",
       "1                  2.0              1.0               5.0        21.0   \n",
       "2                  2.0              2.0               5.0         4.0   \n",
       "3                  2.0              2.0               5.0        17.0   \n",
       "4                  2.0              2.0               5.0        15.0   \n",
       "\n",
       "   company_size  company_type  last_new_job  training_hours  target  \n",
       "0           4.0           5.0           4.0            47.0     0.0  \n",
       "1           4.0           4.0           3.0             8.0     0.0  \n",
       "2           7.0           5.0           4.0            18.0     1.0  \n",
       "3           4.0           5.0           0.0            46.0     1.0  \n",
       "4           6.0           5.0           0.0           108.0     0.0  "
      ]
     },
     "execution_count": 19,
     "metadata": {},
     "output_type": "execute_result"
    }
   ],
   "source": [
    "train.head()"
   ]
  },
  {
   "cell_type": "code",
   "execution_count": 20,
   "id": "12b37bb5",
   "metadata": {},
   "outputs": [],
   "source": [
    "X, y = train.loc[:, df.columns != \"target\"], train[\"target\"]\n",
    "X_pred = test.loc[:].to_numpy()"
   ]
  },
  {
   "cell_type": "markdown",
   "id": "a70c3420",
   "metadata": {},
   "source": [
    "## Dataset is imbalanced\n",
    "\n",
    "[medium link](https://towardsdatascience.com/having-an-imbalanced-dataset-here-is-how-you-can-solve-it-1640568947eb)"
   ]
  },
  {
   "cell_type": "code",
   "execution_count": 21,
   "id": "87d805fb",
   "metadata": {},
   "outputs": [],
   "source": [
    "from imblearn.over_sampling import SMOTE,ADASYN, SVMSMOTE\n",
    "from imblearn.under_sampling import NearMiss\n",
    "from sklearn.model_selection import train_test_split\n",
    "\n",
    "svm_smote = SMOTE( random_state=101) #,sampling_strategy='minority', k_neighbors=5)\n",
    "X_svm_smote, y_svm_smote = svm_smote.fit_resample(X,y)\n",
    "\n",
    "X_train_svm, X_test_svm, y_train, y_test = train_test_split(X_svm_smote,y_svm_smote, test_size=0.30, random_state=101)\n",
    "\n",
    "sc = StandardScaler()\n",
    "X_train = sc.fit_transform(X_train_svm)\n",
    "X_test = sc.transform(X_test_svm)"
   ]
  },
  {
   "cell_type": "markdown",
   "id": "aa3548d4",
   "metadata": {},
   "source": [
    "from sklearn.model_selection import train_test_split\n",
    "X_train, X_test, y_train, y_test = train_test_split(X, y, test_size=0.33)"
   ]
  },
  {
   "cell_type": "code",
   "execution_count": 22,
   "id": "ca565881",
   "metadata": {},
   "outputs": [],
   "source": [
    "# model accuracy\n",
    "result = []"
   ]
  },
  {
   "cell_type": "code",
   "execution_count": 23,
   "id": "ef67cf3d",
   "metadata": {},
   "outputs": [],
   "source": [
    "# This function plots the confusion matrices given y_i, y_i_hat.\n",
    "def plot_confusion_matrix(test_y, predict_y):\n",
    "    C = confusion_matrix(test_y, predict_y)\n",
    "    A =(((C.T)/(C.sum(axis=1))).T)\n",
    "    B =(C/C.sum(axis=0))\n",
    "    plt.figure(figsize=(20,4))\n",
    "\n",
    "    sns.set(font_scale=1)\n",
    "    labels = [0,1]\n",
    "    # representing A in heatmap format\n",
    "    cmap1=sns.light_palette(\"orange\")\n",
    "    cmap2=sns.light_palette(\"#34c3eb\")\n",
    "    cmap3=sns.light_palette(\"purple\")\n",
    "    \n",
    "    plt.subplot(1, 3, 1)\n",
    "    sns.heatmap(C, annot=True, cmap=cmap1, fmt=\".3f\", xticklabels=labels, yticklabels=labels,annot_kws={\"size\":14})\n",
    "    plt.xlabel('Predicted Class')\n",
    "    plt.ylabel('Original Class')\n",
    "    plt.title(\"Confusion matrix\")\n",
    "    \n",
    "    plt.subplot(1, 3, 2)\n",
    "    sns.heatmap(B, annot=True, cmap=cmap2, fmt=\".3f\", xticklabels=labels, yticklabels=labels,annot_kws={\"size\":14})\n",
    "    plt.xlabel('Predicted Class')\n",
    "    plt.ylabel('Original Class')\n",
    "    plt.title(\"Precision matrix\")\n",
    "    \n",
    "    plt.subplot(1, 3, 3)\n",
    "    # representing B in heatmap format\n",
    "    sns.heatmap(A, annot=True, cmap=cmap3, fmt=\".3f\", xticklabels=labels, yticklabels=labels,annot_kws={\"size\":14})\n",
    "    plt.xlabel('Predicted Class')\n",
    "    plt.ylabel('Original Class')\n",
    "    plt.title(\"Recall matrix\")\n",
    "    \n",
    "    plt.show()\n",
    "\n",
    "\n",
    "def plot_roc_auc(y_test,y_pred):\n",
    "    from plot_metric.functions import BinaryClassification\n",
    "    # Visualisation with plot_metric\n",
    "    bc = BinaryClassification(y_test, y_pred, labels=[\"Class 1\", \"Class 0\"])\n",
    "\n",
    "    # Figures\n",
    "    plt.figure(figsize=(8,7))\n",
    "    bc.plot_roc_curve()\n",
    "    \n",
    "    plt.show()"
   ]
  },
  {
   "cell_type": "code",
   "execution_count": 24,
   "id": "f5ff1a74",
   "metadata": {},
   "outputs": [
    {
     "name": "stdout",
     "output_type": "stream",
     "text": [
      "Fitting 5 folds for each of 1 candidates, totalling 5 fits\n",
      "[20:43:29] WARNING: ../src/learner.cc:576: \n",
      "Parameters: { \"silent\" } might not be used.\n",
      "\n",
      "  This could be a false alarm, with some parameters getting used by language bindings but\n",
      "  then being mistakenly passed down to XGBoost core, or some parameter actually being used\n",
      "  but getting flagged wrongly here. Please open an issue if you find any such cases.\n",
      "\n",
      "\n",
      "[20:43:29] WARNING: ../src/learner.cc:1115: Starting in XGBoost 1.3.0, the default evaluation metric used with the objective 'binary:logistic' was changed from 'error' to 'logloss'. Explicitly set eval_metric if you'd like to restore the old behavior.\n",
      "[20:43:42] WARNING: ../src/learner.cc:576: \n",
      "Parameters: { \"silent\" } might not be used.\n",
      "\n",
      "  This could be a false alarm, with some parameters getting used by language bindings but\n",
      "  then being mistakenly passed down to XGBoost core, or some parameter actually being used\n",
      "  but getting flagged wrongly here. Please open an issue if you find any such cases.\n",
      "\n",
      "\n",
      "[20:43:42] WARNING: ../src/learner.cc:1115: Starting in XGBoost 1.3.0, the default evaluation metric used with the objective 'binary:logistic' was changed from 'error' to 'logloss'. Explicitly set eval_metric if you'd like to restore the old behavior.\n",
      "[20:43:51] WARNING: ../src/learner.cc:576: \n",
      "Parameters: { \"silent\" } might not be used.\n",
      "\n",
      "  This could be a false alarm, with some parameters getting used by language bindings but\n",
      "  then being mistakenly passed down to XGBoost core, or some parameter actually being used\n",
      "  but getting flagged wrongly here. Please open an issue if you find any such cases.\n",
      "\n",
      "\n",
      "[20:43:51] WARNING: ../src/learner.cc:1115: Starting in XGBoost 1.3.0, the default evaluation metric used with the objective 'binary:logistic' was changed from 'error' to 'logloss'. Explicitly set eval_metric if you'd like to restore the old behavior.\n",
      "[20:44:03] WARNING: ../src/learner.cc:576: \n",
      "Parameters: { \"silent\" } might not be used.\n",
      "\n",
      "  This could be a false alarm, with some parameters getting used by language bindings but\n",
      "  then being mistakenly passed down to XGBoost core, or some parameter actually being used\n",
      "  but getting flagged wrongly here. Please open an issue if you find any such cases.\n",
      "\n",
      "\n",
      "[20:44:03] WARNING: ../src/learner.cc:1115: Starting in XGBoost 1.3.0, the default evaluation metric used with the objective 'binary:logistic' was changed from 'error' to 'logloss'. Explicitly set eval_metric if you'd like to restore the old behavior.\n",
      "[20:44:12] WARNING: ../src/learner.cc:576: \n",
      "Parameters: { \"silent\" } might not be used.\n",
      "\n",
      "  This could be a false alarm, with some parameters getting used by language bindings but\n",
      "  then being mistakenly passed down to XGBoost core, or some parameter actually being used\n",
      "  but getting flagged wrongly here. Please open an issue if you find any such cases.\n",
      "\n",
      "\n",
      "[20:44:12] WARNING: ../src/learner.cc:1115: Starting in XGBoost 1.3.0, the default evaluation metric used with the objective 'binary:logistic' was changed from 'error' to 'logloss'. Explicitly set eval_metric if you'd like to restore the old behavior.\n",
      "[20:44:19] WARNING: ../src/learner.cc:576: \n",
      "Parameters: { \"silent\" } might not be used.\n",
      "\n",
      "  This could be a false alarm, with some parameters getting used by language bindings but\n",
      "  then being mistakenly passed down to XGBoost core, or some parameter actually being used\n",
      "  but getting flagged wrongly here. Please open an issue if you find any such cases.\n",
      "\n",
      "\n",
      "[20:44:19] WARNING: ../src/learner.cc:1115: Starting in XGBoost 1.3.0, the default evaluation metric used with the objective 'binary:logistic' was changed from 'error' to 'logloss'. Explicitly set eval_metric if you'd like to restore the old behavior.\n",
      "RESULTS : \n",
      "XGBoost Model Accuracy :  0.91\n",
      "XGBoost Model F1-score :  0.91\n",
      "Classification Report :\n",
      "               precision    recall  f1-score   support\n",
      "\n",
      "         0.0       0.89      0.94      0.91      2252\n",
      "         1.0       0.93      0.88      0.91      2232\n",
      "\n",
      "    accuracy                           0.91      4484\n",
      "   macro avg       0.91      0.91      0.91      4484\n",
      "weighted avg       0.91      0.91      0.91      4484\n",
      "\n",
      "\n",
      "\n"
     ]
    },
    {
     "data": {
      "image/png": "[encoded data removed]",
      "text/plain": [
       "<Figure size 1440x288 with 6 Axes>"
      ]
     },
     "metadata": {
      "needs_background": "light"
     },
     "output_type": "display_data"
    },
    {
     "name": "stdout",
     "output_type": "stream",
     "text": [
      "\n",
      "\n"
     ]
    },
    {
     "data": {
      "image/png": "[encoded data removed]",
      "text/plain": [
       "<Figure size 576x504 with 1 Axes>"
      ]
     },
     "metadata": {},
     "output_type": "display_data"
    }
   ],
   "source": [
    "import xgboost as xgb\n",
    "from sklearn.calibration import CalibratedClassifierCV\n",
    "\n",
    "parameters = {'nthread':[4], #when use hyperthread, xgboost may become slower\n",
    "              'objective':['binary:logistic'],\n",
    "              'learning_rate': [0.1], #so called `eta` value\n",
    "              'max_depth': [5],\n",
    "              'min_child_weight': [7],\n",
    "              'silent': [1],\n",
    "              'subsample': [0.8],\n",
    "              'colsample_bytree': [0.7],\n",
    "              'n_estimators': [1000], #number of trees, change it to 1000 for better results\n",
    "              'seed': [1337]}\n",
    "\n",
    "XGB = xgb.XGBClassifier()\n",
    "XGB = GridSearchCV(XGB, parameters, cv = StratifiedKFold(5, shuffle=True), \n",
    "                   scoring='roc_auc',\n",
    "                   verbose=1, refit=True)\n",
    "# XGB = CalibratedClassifierCV(XGB, method=\"sigmoid\")\n",
    "XGB.fit(X_train, y_train)\n",
    "y_pred_xgb = XGB.predict(X_test)\n",
    "cm_xgb = confusion_matrix(y_pred_xgb,y_test)\n",
    "fscore = f1_score(y_test,y_pred_xgb)\n",
    "acc_xgb = accuracy_score(y_test, y_pred_xgb)\n",
    "result.append(acc_xgb)\n",
    "\n",
    "\n",
    "print(\"RESULTS : \")\n",
    "print(\"XGBoost Model Accuracy : \",round(acc_xgb,2))\n",
    "print(\"XGBoost Model F1-score : \",round(fscore,2))\n",
    "print(\"Classification Report :\\n\",classification_report(y_test,y_pred_xgb))\n",
    "print('\\n')\n",
    "plot_confusion_matrix(y_test, y_pred_xgb)\n",
    "print('\\n')\n",
    "plot_roc_auc(y_test,y_pred_xgb)"
   ]
  },
  {
   "cell_type": "code",
   "execution_count": 25,
   "id": "b25abea4",
   "metadata": {},
   "outputs": [
    {
     "name": "stdout",
     "output_type": "stream",
     "text": [
      "<IPython.core.display.HTML object>\n"
     ]
    },
    {
     "data": {
      "text/html": [
       "<div>\n",
       "<style scoped>\n",
       "    .dataframe tbody tr th:only-of-type {\n",
       "        vertical-align: middle;\n",
       "    }\n",
       "\n",
       "    .dataframe tbody tr th {\n",
       "        vertical-align: top;\n",
       "    }\n",
       "\n",
       "    .dataframe thead th {\n",
       "        text-align: right;\n",
       "    }\n",
       "</style>\n",
       "<table border=\"1\" class=\"dataframe\">\n",
       "  <thead>\n",
       "    <tr style=\"text-align: right;\">\n",
       "      <th></th>\n",
       "      <th>feature</th>\n",
       "      <th>importance</th>\n",
       "    </tr>\n",
       "  </thead>\n",
       "  <tbody>\n",
       "    <tr>\n",
       "      <th>10</th>\n",
       "      <td>last_new_job</td>\n",
       "      <td>0.053692</td>\n",
       "    </tr>\n",
       "    <tr>\n",
       "      <th>1</th>\n",
       "      <td>city_development_index</td>\n",
       "      <td>0.044894</td>\n",
       "    </tr>\n",
       "    <tr>\n",
       "      <th>8</th>\n",
       "      <td>company_size</td>\n",
       "      <td>0.041466</td>\n",
       "    </tr>\n",
       "    <tr>\n",
       "      <th>4</th>\n",
       "      <td>enrolled_university</td>\n",
       "      <td>0.031793</td>\n",
       "    </tr>\n",
       "    <tr>\n",
       "      <th>5</th>\n",
       "      <td>education_level</td>\n",
       "      <td>0.031225</td>\n",
       "    </tr>\n",
       "    <tr>\n",
       "      <th>9</th>\n",
       "      <td>company_type</td>\n",
       "      <td>0.021330</td>\n",
       "    </tr>\n",
       "    <tr>\n",
       "      <th>3</th>\n",
       "      <td>relevent_experience</td>\n",
       "      <td>0.019826</td>\n",
       "    </tr>\n",
       "    <tr>\n",
       "      <th>0</th>\n",
       "      <td>city</td>\n",
       "      <td>0.017187</td>\n",
       "    </tr>\n",
       "    <tr>\n",
       "      <th>7</th>\n",
       "      <td>experience</td>\n",
       "      <td>0.013309</td>\n",
       "    </tr>\n",
       "    <tr>\n",
       "      <th>2</th>\n",
       "      <td>gender</td>\n",
       "      <td>0.009426</td>\n",
       "    </tr>\n",
       "    <tr>\n",
       "      <th>11</th>\n",
       "      <td>training_hours</td>\n",
       "      <td>0.003978</td>\n",
       "    </tr>\n",
       "    <tr>\n",
       "      <th>6</th>\n",
       "      <td>major_discipline</td>\n",
       "      <td>0.000872</td>\n",
       "    </tr>\n",
       "  </tbody>\n",
       "</table>\n",
       "</div>"
      ],
      "text/plain": [
       "                   feature  importance\n",
       "10            last_new_job    0.053692\n",
       "1   city_development_index    0.044894\n",
       "8             company_size    0.041466\n",
       "4      enrolled_university    0.031793\n",
       "5          education_level    0.031225\n",
       "9             company_type    0.021330\n",
       "3      relevent_experience    0.019826\n",
       "0                     city    0.017187\n",
       "7               experience    0.013309\n",
       "2                   gender    0.009426\n",
       "11          training_hours    0.003978\n",
       "6         major_discipline    0.000872"
      ]
     },
     "execution_count": 25,
     "metadata": {},
     "output_type": "execute_result"
    }
   ],
   "source": [
    "from sklearn.inspection import permutation_importance\n",
    "import eli5\n",
    "from eli5.sklearn import PermutationImportance\n",
    "\n",
    "pimp = PermutationImportance(estimator = XGB, \n",
    "                                         scoring = 'f1', random_state=101, n_iter = 5)\n",
    "pimp.fit(X_test, y_test)\n",
    "\n",
    "print(eli5.show_weights(pimp, feature_names = X.columns.to_list()))\n",
    "\n",
    "feature_imp = pd.DataFrame(np.hstack((np.array([X.columns[0:]]).T, \n",
    "                              pimp.feature_importances_.T.reshape(-1,1))), \n",
    "                              columns=['feature', 'importance'])\n",
    "\n",
    "feature_imp['importance'] = pd.to_numeric(feature_imp['importance'])\n",
    "feature_imp.sort_values(by='importance', ascending=False)"
   ]
  },
  {
   "cell_type": "code",
   "execution_count": 26,
   "id": "d9f2ea6b",
   "metadata": {},
   "outputs": [
    {
     "data": {
      "text/plain": [
       "<AxesSubplot:xlabel='importance', ylabel='feature'>"
      ]
     },
     "execution_count": 26,
     "metadata": {},
     "output_type": "execute_result"
    },
    {
     "data": {
      "image/png": "[encoded data removed]",
      "text/plain": [
       "<Figure size 864x432 with 1 Axes>"
      ]
     },
     "metadata": {},
     "output_type": "display_data"
    }
   ],
   "source": [
    "plt.figure(figsize = (12,6))\n",
    "plt.xticks(fontsize=15)\n",
    "plt.yticks(fontsize=15)\n",
    "# We sort by importance and get the features\n",
    "sns.barplot(x = 'importance', y = 'feature', data = feature_imp, \n",
    "            order = feature_imp.sort_values('importance', ascending=False).feature)"
   ]
  },
  {
   "cell_type": "code",
   "execution_count": null,
   "id": "306cc6e5",
   "metadata": {},
   "outputs": [],
   "source": []
  }
 ],
 "metadata": {
  "kernelspec": {
   "display_name": "Python 3",
   "language": "python",
   "name": "python3"
  },
  "language_info": {
   "codemirror_mode": {
    "name": "ipython",
    "version": 3
   },
   "file_extension": ".py",
   "mimetype": "text/x-python",
   "name": "python",
   "nbconvert_exporter": "python",
   "pygments_lexer": "ipython3",
   "version": "3.9.2"
  }
 },
 "nbformat": 4,
 "nbformat_minor": 5
}
